{
 "cells": [
  {
   "cell_type": "code",
   "execution_count": 2,
   "id": "40cbc65d",
   "metadata": {},
   "outputs": [
    {
     "name": "stdout",
     "output_type": "stream",
     "text": [
      "  CustomerID Lookalike_1   Score_1 Lookalike_2   Score_2 Lookalike_3   Score_3\n",
      "0      C0001       C0137  0.992641       C0191  0.989305       C0011  0.982790\n",
      "1      C0002       C0088  0.984706       C0142  0.978391       C0043  0.962011\n",
      "2      C0003       C0190  0.986369       C0147  0.971738       C0174  0.960391\n",
      "3      C0004       C0113  0.987303       C0165  0.968836       C0012  0.964305\n",
      "4      C0005       C0140  0.989781       C0186  0.977285       C0123  0.977277\n"
     ]
    }
   ],
   "source": [
    "import pandas as pd\n",
    "from sklearn.preprocessing import StandardScaler\n",
    "from sklearn.metrics.pairwise import cosine_similarity\n",
    "\n",
    "# Load the datasets\n",
    "customers_df = pd.read_csv('Customers.csv')\n",
    "products_df = pd.read_csv('Products.csv')\n",
    "transactions_df = pd.read_csv('Transactions.csv')\n",
    "\n",
    "# Convert date columns to datetime for analysis\n",
    "customers_df['SignupDate'] = pd.to_datetime(customers_df['SignupDate'])\n",
    "transactions_df['TransactionDate'] = pd.to_datetime(transactions_df['TransactionDate'])\n",
    "\n",
    "# Merging datasets for comprehensive analysis\n",
    "merged_df = transactions_df.merge(customers_df, on='CustomerID', how='left') \\\n",
    "                           .merge(products_df, on='ProductID', how='left')\n",
    "\n",
    "# Preprocessing: Aggregate transaction data per customer\n",
    "customer_transactions = merged_df.groupby('CustomerID').agg({\n",
    "    'TotalValue': 'sum',\n",
    "    'Quantity': 'sum',\n",
    "    'Price_x': 'mean'\n",
    "}).reset_index()\n",
    "\n",
    "# Merge with customer demographic data\n",
    "customer_profile = customers_df.merge(customer_transactions, on='CustomerID', how='left').fillna(0)\n",
    "\n",
    "# Encode categorical data (Region)\n",
    "customer_profile = pd.get_dummies(customer_profile, columns=['Region'], drop_first=True)\n",
    "\n",
    "# Scaling the numerical features\n",
    "scaler = StandardScaler()\n",
    "features = customer_profile.drop(['CustomerID', 'CustomerName', 'SignupDate'], axis=1)\n",
    "scaled_features = scaler.fit_transform(features)\n",
    "\n",
    "# Calculate cosine similarity\n",
    "similarity_matrix = cosine_similarity(scaled_features)\n",
    "\n",
    "# Create Lookalike Data\n",
    "lookalike_data = {}\n",
    "\n",
    "customer_ids = customer_profile['CustomerID'].values\n",
    "\n",
    "for idx, cust_id in enumerate(customer_ids[:20]):  # For customers C0001 - C0020\n",
    "    # Get similarity scores for the current customer\n",
    "    similarity_scores = list(enumerate(similarity_matrix[idx]))\n",
    "    # Exclude the customer themselves and sort by similarity score\n",
    "    similar_customers = sorted(\n",
    "        [(customer_ids[i], score) for i, score in similarity_scores if customer_ids[i] != cust_id],\n",
    "        key=lambda x: x[1], reverse=True\n",
    "    )[:3]  # Top 3 similar customers\n",
    "    \n",
    "    lookalike_data[cust_id] = similar_customers\n",
    "\n",
    "# Convert to DataFrame for CSV export\n",
    "lookalike_list = [{'CustomerID': cust_id, \n",
    "                   'Lookalike_1': sims[0][0], 'Score_1': sims[0][1],\n",
    "                   'Lookalike_2': sims[1][0], 'Score_2': sims[1][1],\n",
    "                   'Lookalike_3': sims[2][0], 'Score_3': sims[2][1]}\n",
    "                  for cust_id, sims in lookalike_data.items()]\n",
    "\n",
    "lookalike_df = pd.DataFrame(lookalike_list)\n",
    "\n",
    "# Save to CSV\n",
    "lookalike_df.to_csv('Lookalike.csv', index=False)\n",
    "\n",
    "# Display the Lookalike Data\n",
    "print(lookalike_df.head())\n"
   ]
  },
  {
   "cell_type": "code",
   "execution_count": null,
   "id": "46b2297a",
   "metadata": {},
   "outputs": [],
   "source": []
  }
 ],
 "metadata": {
  "kernelspec": {
   "display_name": "Python 3 (ipykernel)",
   "language": "python",
   "name": "python3"
  },
  "language_info": {
   "codemirror_mode": {
    "name": "ipython",
    "version": 3
   },
   "file_extension": ".py",
   "mimetype": "text/x-python",
   "name": "python",
   "nbconvert_exporter": "python",
   "pygments_lexer": "ipython3",
   "version": "3.9.13"
  }
 },
 "nbformat": 4,
 "nbformat_minor": 5
}
